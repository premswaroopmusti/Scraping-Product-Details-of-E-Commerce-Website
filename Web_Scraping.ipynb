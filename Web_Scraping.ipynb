{
  "nbformat": 4,
  "nbformat_minor": 0,
  "metadata": {
    "colab": {
      "name": "Web Scraping.ipynb",
      "provenance": [],
      "authorship_tag": "ABX9TyPMRABa2dtuOuNeGtm3eutt",
      "include_colab_link": true
    },
    "kernelspec": {
      "name": "python3",
      "display_name": "Python 3"
    },
    "language_info": {
      "name": "python"
    }
  },
  "cells": [
    {
      "cell_type": "markdown",
      "metadata": {
        "id": "view-in-github",
        "colab_type": "text"
      },
      "source": [
        "<a href=\"https://colab.research.google.com/github/premswaroopmusti/Web-Scraping/blob/main/Web_Scraping.ipynb\" target=\"_parent\"><img src=\"https://colab.research.google.com/assets/colab-badge.svg\" alt=\"Open In Colab\"/></a>"
      ]
    },
    {
      "cell_type": "code",
      "execution_count": null,
      "metadata": {
        "id": "qIAT_VILH21c"
      },
      "outputs": [],
      "source": [
        "import requests as r\n",
        "from bs4 import BeautifulSoup\n",
        "import pandas as pd\n"
      ]
    },
    {
      "cell_type": "code",
      "source": [
        "req = r.get('https://partakefoods.com/collections/all')\n",
        "req.text"
      ],
      "metadata": {
        "id": "Us4g3msNMZo1"
      },
      "execution_count": null,
      "outputs": []
    },
    {
      "cell_type": "code",
      "source": [
        "product_list = []\n",
        "soup = BeautifulSoup(req.text,'html.parser')\n",
        "products =  soup.find_all('li', class_ = 'grid__item')\n",
        "for i in products:\n",
        "  product_name = i.find('a').text.strip()\n",
        "  product_price = i.find('span',class_ = 'price-item price-item--regular').text.strip()\n",
        "  product_price = product_price.replace('From','').replace('$','').strip()\n",
        "  product_list.append({'name':product_name,'price':product_price})"
      ],
      "metadata": {
        "id": "H8J6sMq4Tb6x"
      },
      "execution_count": null,
      "outputs": []
    },
    {
      "cell_type": "code",
      "source": [
        "df = pd.DataFrame(product_list)\n",
        "df.to_csv('Dataset_partakefoods.csv',index = False)\n"
      ],
      "metadata": {
        "id": "movn0HEsUw__"
      },
      "execution_count": null,
      "outputs": []
    },
    {
      "cell_type": "code",
      "source": [
        ""
      ],
      "metadata": {
        "id": "mI-8itLHcPFW"
      },
      "execution_count": null,
      "outputs": []
    }
  ]
}